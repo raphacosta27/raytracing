{
 "cells": [
  {
   "cell_type": "markdown",
   "metadata": {},
   "source": [
    "# Ray tracing in one weekend optimized with CUDA."
   ]
  },
  {
   "cell_type": "markdown",
   "metadata": {},
   "source": [
    "#### Por Raphael Costa\n",
    "\n",
    "#### Supercomputação\n",
    "\n",
    "#### Professor Luciano Soares"
   ]
  },
  {
   "cell_type": "markdown",
   "metadata": {},
   "source": [
    "## Objetivo do projeto"
   ]
  },
  {
   "cell_type": "markdown",
   "metadata": {},
   "source": [
    "Este projeto tem como objetivo otimizar um Ray Tracer utilizando a biblioteca CUDA, desenvolvida pela NVIDIA. O CUDA permite o desenvolvimento de códigos paralelos utilizando GPUs."
   ]
  },
  {
   "cell_type": "markdown",
   "metadata": {},
   "source": [
    "Este projeto é baseado no código de Peter Shirley, em seu projeto Ray Tracing in One Weekend, escrito em 2018. (Disponível em http://www.realtimerendering.com/raytracing/Ray%20Tracing%20in%20a%20Weekend.pdf, acesso em 03/06/2019). Neste artigo, Peter descreve o passo a passo de como construir o mais simples possível Ray Tracer em C++. O Ray Tracing, por sua vez, é um método de renderização de imagens tridimensionais que exige um poder computacional muito grande para ser processado em CPU. O Ray Tracing tem de ser computado em tempo real, caso contrário, o usuário será impossibilitado de ver todos os frames limpos. "
   ]
  },
  {
   "cell_type": "markdown",
   "metadata": {},
   "source": [
    "O projeto original tem como objetivo final gerar a imagem abaixo, com resolução de 1200x800 com 10 níveis de anti-aliasing. Porém, para este projeto, otimizaremos com CUDA apenas até o capítulo 5, antes de iniciar o processo de anti-aliasing."
   ]
  },
  {
   "cell_type": "markdown",
   "metadata": {},
   "source": [
    "![imagem original](img/final.png)"
   ]
  },
  {
   "cell_type": "markdown",
   "metadata": {},
   "source": [
    "Portanto, nosso objetivo final é a imagem abaixo."
   ]
  },
  {
   "cell_type": "markdown",
   "metadata": {},
   "source": [
    "![cap5](img/cap5.png)"
   ]
  },
  {
   "cell_type": "markdown",
   "metadata": {},
   "source": [
    "Na imagem acima, temos 2 esferas sendo geradas, a central com raio 0.5 e uma maior, predominantemente verde, com raio 100. "
   ]
  },
  {
   "cell_type": "markdown",
   "metadata": {},
   "source": [
    "# O kernel"
   ]
  },
  {
   "cell_type": "markdown",
   "metadata": {},
   "source": [
    "![grid](img/grid.jpeg)"
   ]
  },
  {
   "cell_type": "markdown",
   "metadata": {},
   "source": [
    "Primeiro, vamos imaginar que nossa imagem pode abstraida como uma matriz tridimensional, com tamanho MxNx3, onde M é comprimento e N é a altura da imagem, sendo 3 as informações de cor de cada pixel: o fator R(red), fator G(green) e fator B(blue). "
   ]
  },
  {
   "cell_type": "markdown",
   "metadata": {},
   "source": [
    "Desta forma, podemos imaginar o grid acima como um grid bidimensional, de comprimento e altura iguais ao da imagem. Cada thread será responsável por calcular os 3 fatores do pixel correspondente a sua posição relativa no grid. Assim, se desejamos calcular uma imagem de tamanho 200x100, teremos um total de 200x100 = 20000 threads."
   ]
  },
  {
   "cell_type": "markdown",
   "metadata": {},
   "source": [
    "```C++\n",
    "__global__ void generate(int *A, int nx, int ny,\n",
    "                         int size, vec3 lower_left_corner,\n",
    "                         vec3 horizontal, vec3 vertical,\n",
    "                         vec3 origin, hitable **world){\n",
    "  int i = blockIdx.x * blockDim.x + threadIdx.x;\n",
    "  int j = blockIdx.y * blockDim.y + threadIdx.y;\n",
    "  float u = float(i) / float(nx);\n",
    "  float v = float(j) / float(ny);\n",
    "  ray r(origin, lower_left_corner + u*horizontal + v*vertical);\n",
    "  vec3 color = color_ray(r, world);\n",
    "  int ir = int(255.99*color.r());\n",
    "  int ig = int(255.99*color.g());\n",
    "  int ib = int(255.99*color.b());\n",
    "  A[(i*ny + j)*3] = ir;\n",
    "  A[(i*ny + j)*3 + 1] = ig;\n",
    "  A[(i*ny + j)*3 + 2] = ib;\n",
    "}\n",
    "```"
   ]
  },
  {
   "cell_type": "markdown",
   "metadata": {},
   "source": [
    "Cada thread executará o código acima, que nomeamos kernel. As linhas\n",
    "```C++\n",
    "int i = blockIdx.x * blockDim.x + threadIdx.x;\n",
    "int j = blockIdx.y * blockDim.y + threadIdx.y;\n",
    "```\n",
    "São responsáveis por dizer qual o id da thread, ou seja, será responsável por localiza-la e dizer qual pixel aquela thread calculára. Ainda, para efetuarmos as transições necessárias entre CPU e GPU, criamos uma matriz A, que armazenará os pixels da imagem a ser calculada. Assim, no início do programa, criamos duas várias, a <code>gpuA</code> e a <code>cpuA</code>. A <code>gpuA</code> será responsável por armazenar os cálculos feitos pela gpu, e, após o termino da execução do kernel, copiamos todos os valores de <code>gpuA</code> para <code>cpuA</code>, já que não podemos acessar váriaveis alocadas na GPU em códigos em execução na CPU.\n"
   ]
  },
  {
   "cell_type": "code",
   "execution_count": null,
   "metadata": {},
   "outputs": [],
   "source": []
  }
 ],
 "metadata": {
  "kernelspec": {
   "display_name": "Python 3",
   "language": "python",
   "name": "python3"
  },
  "language_info": {
   "codemirror_mode": {
    "name": "ipython",
    "version": 3
   },
   "file_extension": ".py",
   "mimetype": "text/x-python",
   "name": "python",
   "nbconvert_exporter": "python",
   "pygments_lexer": "ipython3",
   "version": "3.7.3"
  }
 },
 "nbformat": 4,
 "nbformat_minor": 2
}
