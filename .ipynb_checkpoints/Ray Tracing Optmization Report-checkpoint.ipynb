{
 "cells": [
  {
   "cell_type": "markdown",
   "metadata": {},
   "source": [
    "# Ray Tracing Optmization - Raphael Costa\n",
    "## Disciplina: Supercomputação \n",
    "## Professor: Luciano "
   ]
  },
  {
   "cell_type": "code",
   "execution_count": 1,
   "metadata": {},
   "outputs": [],
   "source": [
    "import matplotlib.pyplot as plt\n",
    "import pandas as pd\n",
    "import numpy as np"
   ]
  },
  {
   "cell_type": "markdown",
   "metadata": {},
   "source": [
    "### O que é o Ray Tracing"
   ]
  },
  {
   "cell_type": "markdown",
   "metadata": {},
   "source": [
    "```\n",
    "    O ray tracing é um método de renderização de imagens 3D em computadores. Este método busca reproduzir sombras, luzes e contraste em objetos de uma forma mais realística do que os métodos de renderização convencionais. Em resumo, o ray tracing simula a trajetória de um raio de luz em vários pontos de um mesmo pixel até o \"olho\" do observador (câmera).\n",
    "    Um dos desafios deste método é o seu custo. É muito comum que jogadores desativem esta feature quando buscam otimizar a execução de um programa, já que o ray tracing possui muitas iterações e cálculos repetitivos, buscando a melhor renderização possível. \n",
    "```"
   ]
  },
  {
   "cell_type": "markdown",
   "metadata": {},
   "source": [
    "### Objetivo"
   ]
  },
  {
   "cell_type": "markdown",
   "metadata": {},
   "source": [
    "```\n",
    "    Assim, o objetivo deste projeto era o de tentar contornar tal problema. O autor Peter Shirley, em seu livro Ray Tracing in One Weekend (Disponível em: https://drive.google.com/drive/folders/14yayBb9XiL16lmuhbYhhvea8mKUUK77W, Acesso em 02/04/2019) disponibiliza um projeto inteiro de um Ray Tracing mais simples e passível de reprodução para aqueles que possuem conhecimentos em programação. Seu código fonte pode ser encontrado em https://github.com/petershirley/raytracinginoneweekend (Acesso em 02/04/2019), cujo é a base para o código realizado neste projeto.\n",
    "    Com todos estas ferramentas disponíveis, neste primeiro projeto de Supercomputação, nosso objetivo era o de reduzir o tempo de execução do projeto de Peter Shirley, buscando viabilizar a renderização de cenas mais complexas e com mais objetos, já que o projeto gera, como produto, apenas uma imagem (Imagem 1). Tal melhoria aconteceria utilizando rotinas em SIMD (Single Instruction, Multiple Data), que será explicada posteriormente, e multithreading em arquiteturas de memória compartilhada (shared memory), ambos conceitos aprendidos em sala.\n",
    "```"
   ]
  },
  {
   "cell_type": "markdown",
   "metadata": {},
   "source": [
    "<img src='original.png'/>\n",
    "\n",
    "```\n",
    "                                    Imagem 1: Imagem que o Ray Traicing gera\n",
    "```"
   ]
  },
  {
   "cell_type": "markdown",
   "metadata": {},
   "source": [
    "Para a medição do tempo que cada função leva para executar, foi utilizado a função da biblioteca, mais precisamente a <code>high_resolution_clock</code> (Disponível em: https://pt.cppreference.com/w/cpp/chrono)."
   ]
  },
  {
   "cell_type": "markdown",
   "metadata": {},
   "source": [
    "## Gráfico do tempo das versões"
   ]
  },
  {
   "cell_type": "code",
   "execution_count": 22,
   "metadata": {},
   "outputs": [
    {
     "data": {
      "image/png": "[encoded data removed]",
      "text/plain": [
       "<Figure size 648x648 with 1 Axes>"
      ]
     },
     "metadata": {
      "needs_background": "light"
     },
     "output_type": "display_data"
    }
   ],
   "source": [
    "raw_time = 31.4265\n",
    "critical_normal = 37.6357\n",
    "without_critical = 15.5221 #perigo de corrida\n",
    "critical_fix = 15.8414 #sem perigo de corrida\n",
    "random_scene_par = 12.7142\n",
    "simd = 17.2288\n",
    "times = [raw_time, critical_normal, without_critical, critical_fix, random_scene_par]\n",
    "\n",
    "D = {\n",
    "    \"Cru\": raw_time,\n",
    "    \"Par1\": critical_normal,\n",
    "    \"Par2\": without_critical,\n",
    "    \"Par3\": critical_fix,\n",
    "    \"Par4\": random_scene_par,\n",
    "    \"SIMD\": simd\n",
    "}\n",
    "plt.figure(figsize=(9,9))\n",
    "plt.title(\"Tempo de execução das versões\")\n",
    "plt.xlabel(\"Tempo(s)\")\n",
    "plt.ylabel(\"Versão\")\n",
    "plt.bar(range(len(D)), list(D.values()), align='center')\n",
    "plt.xticks(range(len(D)), list(D.keys()))\n",
    "plt.show()"
   ]
  },
  {
   "cell_type": "markdown",
   "metadata": {},
   "source": [
    "#### Código \"cru\""
   ]
  },
  {
   "cell_type": "markdown",
   "metadata": {},
   "source": [
    "#### Função main"
   ]
  },
  {
   "cell_type": "markdown",
   "metadata": {},
   "source": [
    "```c++ \n",
    " for (int j = ny-1; j >= 0; j--) {\n",
    "    for (int i = 0; i < nx; i++) {\n",
    "        vec3 col(0, 0, 0);\n",
    "        for (int s=0; s < ns; s++) {\n",
    "            float u = float(i + drand48()) / float(nx);\n",
    "            float v = float(j + drand48()) / float(ny);\n",
    "            ray r = cam.get_ray(u, v);\n",
    "            vec3 p = r.point_at_parameter(2.0);\n",
    "            col += color(r, world,0);\n",
    "        }\n",
    "        col /= float(ns);\n",
    "        col = vec3( sqrt(col[0]), sqrt(col[1]), sqrt(col[2]) );\n",
    "        int ir = int(255.99*col[0]); \n",
    "        int ig = int(255.99*col[1]); \n",
    "        int ib = int(255.99*col[2]); \n",
    "        myfile << ir << \" \" << ig << \" \" << ib << \"\\n\"; \n",
    "    }\n",
    "}\n",
    "```"
   ]
  },
  {
   "cell_type": "markdown",
   "metadata": {},
   "source": [
    "```\n",
    "A Função acima é parte da função main original. Nesta parte do código ocorre a geração da imagem em si, escrevendo em um arquivo cada pixel com seu valor r, g e b, variáveis ir, ig e ib, respectivamente. \n",
    "Desta forma, gerando a imagem na resolucão de 300x200, o tempo que o código leva é de 31.4265s.\n",
    "\n",
    "```"
   ]
  },
  {
   "cell_type": "markdown",
   "metadata": {},
   "source": [
    "### Paralelizações"
   ]
  },
  {
   "cell_type": "markdown",
   "metadata": {},
   "source": [
    "#### 1) Paralelização simples do for"
   ]
  },
  {
   "cell_type": "markdown",
   "metadata": {},
   "source": [
    "```\n",
    "    Como a maior parte do código está concentrada nesta parte, a primeira abordagem foi a de paralelizar o terceiro for, ja que nenhuma iteração depende de outra, somente que a variável col seja somada. Assim, o código resultante foi:\n",
    "```"
   ]
  },
  {
   "cell_type": "markdown",
   "metadata": {},
   "source": [
    "``` c++\n",
    "#pragma omp parallel for shared(col) num_threads(omp_get_max_threads())\n",
    "for (int s=0; s < ns; s++) {\n",
    "    float u = float(i + drand48()) / float(nx);\n",
    "    float v = float(j + drand48()) / float(ny);\n",
    "    ray r = cam.get_ray(u, v);\n",
    "    vec3 p = r.point_at_parameter(2.0);\n",
    "    col += color(r, world,0);\n",
    "}\n",
    "```"
   ]
  },
  {
   "cell_type": "markdown",
   "metadata": {},
   "source": [
    "```\n",
    "    Somente com essa paralelização, o tempo de execução reduziu para 15.5221s. Porém, o problema desta abordagem é que a variável col deve ser atualizada por todas as threads, o que pode causar o que é chamado de Race Condition. A príncipio, visualmente, a imagem não apresenta nenhum erro vísivel, mas alguns pixels podem ter erros devido ä leitura e escrita de threads sem que o Race Condition ocorra.\n",
    "```"
   ]
  },
  {
   "cell_type": "markdown",
   "metadata": {},
   "source": [
    "#### 2) Utilizando o pragma critical"
   ]
  },
  {
   "cell_type": "markdown",
   "metadata": {},
   "source": [
    "```c++\n",
    "#pragma omp parallel for shared(col) num_threads(omp_get_max_threads())\n",
    "for (int s=0; s < ns; s++) {\n",
    "    float u = float(i + drand48()) / float(nx);\n",
    "    float v = float(j + drand48()) / float(ny);\n",
    "    ray r = cam.get_ray(u, v);\n",
    "    vec3 p = r.point_at_parameter(2.0);\n",
    "    #pragma omp critical\n",
    "    col += color(r, world,0);\n",
    "}\n",
    "```"
   ]
  },
  {
   "cell_type": "markdown",
   "metadata": {},
   "source": [
    "```\n",
    "    Para tentar resolver o problema do Race Condition, foi testada a utilização do pragma critical. O critical protege um bloco de código, fazendo com que apenas uma thread possa efetuá-lo por vez, impedindo race condition. O problema desta abordagem é que o critical também protegerá a geração do objeto color(r,world,0). Este objeto reprenta todo o cálculo efetuado naquela iteração, ou seja, grande parte do processamento está na geração deste objeto. Portanto, paralelizar o restante mas deixar esta parte em contínua, provavelmente não teremos nenhum ganho. Quando medido, esta abordagem tem o tempo de 37.6357s, o que confirma nossa hipótese.\n",
    "```"
   ]
  },
  {
   "cell_type": "markdown",
   "metadata": {},
   "source": [
    "#### 3) Arrumando a abordagem do critical"
   ]
  },
  {
   "cell_type": "markdown",
   "metadata": {},
   "source": [
    "```c++\n",
    "#pragma omp parallel for shared(col) num_threads(omp_get_max_threads())\n",
    "for (int s=0; s < ns; s++) {\n",
    "    float u = float(i + drand48()) / float(nx);\n",
    "    float v = float(j + drand48()) / float(ny);\n",
    "    ray r = cam.get_ray(u, v);\n",
    "    vec3 p = r.point_at_parameter(2.0);\n",
    "    vec3 a = color(r, world,0);\n",
    "    #pragma omp critical\n",
    "    col += a;\n",
    "}\n",
    "```"
   ]
  },
  {
   "cell_type": "markdown",
   "metadata": {},
   "source": [
    "```\n",
    "    Para concertar esta abordagem, podemos retirar a criação do color do pragma omp critical, fazendo com que apenas a operação de soma da váriavel col seja crítica. Assim, criamos uma váriavel auxiliar a, que guarda o valor o color, e a atríbuimos a col na região crítica do código. Esta abordagem melhorou muito o desempenho, com o tempo de execução reduzindo para 15.8414s, que é muito próximo ao tempo sem o critical, porém sem o risco do Race Condition.\n",
    "```"
   ]
  },
  {
   "cell_type": "markdown",
   "metadata": {},
   "source": [
    "#### 4) Paralelização da função random scene"
   ]
  },
  {
   "cell_type": "markdown",
   "metadata": {},
   "source": [
    "```c++\n",
    "for (int a = -11; a < 11; a++) {\n",
    "    for (int b = -11; b < 11; b++) {\n",
    "        float choose_mat = drand48();\n",
    "        vec3 center(a+0.9*drand48(),0.2,b+0.9*drand48()); \n",
    "        if ((center-vec3(4,0.2,0)).length() > 0.9) { \n",
    "            if (choose_mat < 0.8) {  // diffuse\n",
    "                list[i++] = new sphere(center, 0.2, new lambertian(vec3(drand48()*drand48(), drand48()*drand48(), drand48()*drand48())));\n",
    "            }\n",
    "            else if (choose_mat < 0.95) { // metal\n",
    "                list[i++] = new sphere(center, 0.2,\n",
    "                        new metal(vec3(0.5*(1 + drand48()), 0.5*(1 + drand48()), 0.5*(1 + drand48())),  0.5*drand48()));\n",
    "            }\n",
    "            else {  // glass\n",
    "                list[i++] = new sphere(center, 0.2, new dielectric(1.5));\n",
    "            }\n",
    "        }\n",
    "    }\n",
    "}\n",
    "```"
   ]
  },
  {
   "cell_type": "markdown",
   "metadata": {},
   "source": [
    "```\n",
    "    Outra função que estava ápta à paralelizações é a função random_scene, função que gera objetos aleatórios para que ocorra o ray tracing. Como pode ser observado no código acima, o cálculo envolve preencher posições de uma lista, porém, como cada thread atualizaria uma posição da lista, podemos gerar uma imagem com erros, mais uma vez, mesmo que visualmente esteja correta.\n",
    "```"
   ]
  },
  {
   "cell_type": "markdown",
   "metadata": {},
   "source": [
    "```c++\n",
    "#pragma omp parallel for num_threads(omp_get_max_threads()) collapse(2)\n",
    "for (int a = -11; a < 11; a++) {\n",
    "    for (int b = -11; b < 11; b++) {\n",
    "        float choose_mat = drand48();\n",
    "        vec3 center(a+0.9*drand48(),0.2,b+0.9*drand48()); \n",
    "        if ((center-vec3(4,0.2,0)).length() > 0.9) { \n",
    "            if (choose_mat < 0.8) {  // diffuse\n",
    "                list[i++] = new sphere(center, 0.2, new lambertian(vec3(drand48()*drand48(), drand48()*drand48(), drand48()*drand48())));\n",
    "            }\n",
    "            else if (choose_mat < 0.95) { // metal\n",
    "                list[i++] = new sphere(center, 0.2,\n",
    "                        new metal(vec3(0.5*(1 + drand48()), 0.5*(1 + drand48()), 0.5*(1 + drand48())),  0.5*drand48()));\n",
    "            }\n",
    "            else {  // glass\n",
    "                list[i++] = new sphere(center, 0.2, new dielectric(1.5));\n",
    "            }\n",
    "        }\n",
    "    }\n",
    "}\n",
    "```"
   ]
  },
  {
   "cell_type": "markdown",
   "metadata": {},
   "source": [
    "```\n",
    "    Para esta abordagem, utilizamos o pragma collapse(2), que define que o omp paralelizará dua regiões de for. Quando medimos esta abordagem, o tempo de execução reduz para 12.7142s. Sendo assim, além de não termos a certeza da qualidade da imagem gerada, a otimização gera poucos ganhos, o que não a justifica.\n",
    "```"
   ]
  },
  {
   "cell_type": "markdown",
   "metadata": {},
   "source": [
    "### Instruções Intrínsecas SIMD"
   ]
  },
  {
   "cell_type": "markdown",
   "metadata": {},
   "source": [
    "```\n",
    "    As instruções do tipo SIMD são operações aplicadas em computação paralela que faz operações simultaneas para gerar mais resultados. Por exemplo, ao somarmos um vetor a = [1, 2, 3] com b = [1, 2, 3] em operações comuns, teríamos de somar cada posição por vez. Com instruções do tipo SIMD, podemos somar as 3 ao mesmo tempo. Para tanto, o compilador e a CPU utilizam registradores específicos (%xmm) para que estas operações sejam possíveis.\n",
    "```"
   ]
  },
  {
   "cell_type": "markdown",
   "metadata": {},
   "source": [
    "### A classe vec3 e aplicações das instruções SIMD"
   ]
  },
  {
   "cell_type": "markdown",
   "metadata": {},
   "source": [
    "```\n",
    "    A classe vec3 utiliza-se de sobrecargas de operadores para facilitar as contas no contexto do algoritimo do Ray Tracing. Ou seja, como sempre utilizamos objetos com atributos RGB, sempre que quisermos somá-los, queremos somar suas cores respectivas (R+R, G+G, etc.). Com a sobrecarga de operadores, podemos fazer com que o compilador entenda que ao somarmos dois objetos do tipo vec3, queremos esta operação.\n",
    "```"
   ]
  },
  {
   "cell_type": "markdown",
   "metadata": {},
   "source": [
    "```c++\n",
    "inline vec3 operator+(const vec3 &v1, const vec3 &v2) {\n",
    "    return vec3(v1.e[0] + v2.e[0], v1.e[1] + v2.e[1], v1.e[2] + v2.e[2]);\n",
    "}\n",
    "```"
   ]
  },
  {
   "cell_type": "markdown",
   "metadata": {},
   "source": [
    "```\n",
    "    Este contexto se encaixa no exemplo de SIMD dado anteriormente, onde podemos somar os 3 atributos em um clock utilizando vetores das SIMD. Porém, espera-se que o ganho não seja muito relevante, já que possuimos apenas 3 atributos para somar, provavelmente o tempo que o compilador levará para adaptar o código assembly para a operação SIMD não justificará o tempo de apenas somá-los normalmente.\n",
    "```"
   ]
  },
  {
   "cell_type": "markdown",
   "metadata": {},
   "source": [
    "```c++\n",
    "inline vec3 operator+(const vec3 &v1, const vec3 &v2) {\n",
    "    __m128 V1 = _mm_set_ps(v1.e[0], v1.e[1], v1.e[2], 0);\n",
    "    __m128 V2 = _mm_set_ps(v2.e[0], v2.e[1], v2.e[2], 0);\n",
    "    __m128 res = _mm_add_ps(V1, V2);\n",
    "    float* result = (float*)&res;\n",
    "    return vec3(result[3],result[2], result[1]);\n",
    "}\n",
    "```\n"
   ]
  },
  {
   "cell_type": "markdown",
   "metadata": {},
   "source": [
    "```\n",
    "        O código acima ilustra a abordagem do operador + com instruções SIMD, utilizando vetores __m128 e a função _mm_add_ps para somar dois vetores. Porém, como era esperado, passamos de 15.8414s (paralelização 3) para 17.2288s apenas com esta função em SIMD. Assim, a abordagem de funções utilizando este método foi descartada.\n",
    "```"
   ]
  },
  {
   "cell_type": "markdown",
   "metadata": {},
   "source": [
    "### Utilização da memória"
   ]
  },
  {
   "cell_type": "markdown",
   "metadata": {},
   "source": [
    "<img src='memory.png'/>"
   ]
  },
  {
   "cell_type": "markdown",
   "metadata": {},
   "source": [
    "# Teste final"
   ]
  },
  {
   "cell_type": "markdown",
   "metadata": {},
   "source": [
    "<img src='final.png'/>\n",
    "\n",
    "```\n",
    "                                            Imagem 2: Imagem final.\n",
    "```"
   ]
  },
  {
   "cell_type": "markdown",
   "metadata": {},
   "source": [
    "```\n",
    "    Acima, podemos ver a imagem final gerada pelo Ray Tracer. Ao fim, a imagem com resolução original (1200x800) na paralelização 3 deste projeto, teve tempo de execução de 261.308s, enquanto que o de Peter Shirley tem, por padrão, o tempo de execução de 432s, uma redução de aproximadamente 40% do tempo.\n",
    "    Com a flag de otimização -O3 do c++ podemos ainda chegar ao tempo de 64.5883s.\n",
    "```"
   ]
  }
 ],
 "metadata": {
  "kernelspec": {
   "display_name": "Python 3",
   "language": "python",
   "name": "python3"
  },
  "language_info": {
   "codemirror_mode": {
    "name": "ipython",
    "version": 3
   },
   "file_extension": ".py",
   "mimetype": "text/x-python",
   "name": "python",
   "nbconvert_exporter": "python",
   "pygments_lexer": "ipython3",
   "version": "3.7.2"
  }
 },
 "nbformat": 4,
 "nbformat_minor": 2
}
